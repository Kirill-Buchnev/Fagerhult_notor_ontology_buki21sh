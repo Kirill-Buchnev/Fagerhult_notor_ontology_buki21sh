{
 "cells": [
  {
   "cell_type": "code",
   "execution_count": 654,
   "metadata": {},
   "outputs": [],
   "source": [
    "import rdflib\n",
    "from rdflib import Graph, Literal, BNode, Namespace, RDF, RDFS, OWL, URIRef\n",
    "from rdflib.namespace import OWL, RDF, RDFS, FOAF, XSD\n",
    "from urllib.parse import urlparse\n",
    "import os\n",
    "import xlrd\n",
    "import re\n",
    "import io\n",
    "import stardog"
   ]
  },
  {
   "cell_type": "code",
   "execution_count": 655,
   "metadata": {},
   "outputs": [],
   "source": [
    "product_data_excel_file = r\"C:\\Users\\kiril\\Desktop\\JU\\Ontology\\1_Notor65_betaopti.xls\"\n",
    "product_data_book = xlrd.open_workbook(product_data_excel_file)"
   ]
  },
  {
   "cell_type": "code",
   "execution_count": 656,
   "metadata": {},
   "outputs": [],
   "source": [
    "# Create a Graph (or triple, store, ...)\n",
    "g = Graph()"
   ]
  },
  {
   "cell_type": "code",
   "execution_count": 657,
   "metadata": {},
   "outputs": [
    {
     "data": {
      "text/plain": [
       "<Graph identifier=N97c20783c43642869d218f85e045dc12 (<class 'rdflib.graph.Graph'>)>"
      ]
     },
     "execution_count": 657,
     "metadata": {},
     "output_type": "execute_result"
    }
   ],
   "source": [
    "s = URIRef(\"https://example.org/fagerhult_notor_ontology\")\n",
    "p = RDF.type\n",
    "o = OWL.Ontology\n",
    "g.add((s, p, o))"
   ]
  },
  {
   "cell_type": "code",
   "execution_count": 658,
   "metadata": {},
   "outputs": [
    {
     "name": "stdout",
     "output_type": "stream",
     "text": [
      "https://example.org/fagerhult_notor_ontology\n",
      "http://www.w3.org/1999/02/22-rdf-syntax-ns#type\n",
      "http://www.w3.org/2002/07/owl#Ontology\n"
     ]
    }
   ],
   "source": [
    "for s, p, o in g:\n",
    "    print(*(s, p, o), sep=\"\\n\")"
   ]
  },
  {
   "cell_type": "code",
   "execution_count": 659,
   "metadata": {},
   "outputs": [
    {
     "data": {
      "text/plain": [
       "<Graph identifier=N97c20783c43642869d218f85e045dc12 (<class 'rdflib.graph.Graph'>)>"
      ]
     },
     "execution_count": 659,
     "metadata": {},
     "output_type": "execute_result"
    }
   ],
   "source": [
    "# Serialize the ontology to the Turtle format and save it to a file named 'fagerhult_nator_ontology_2.ttl'\n",
    "g.serialize(destination = \"fagerhult_notor_ontology_buki21sh.ttl\", format = \"turtle\")"
   ]
  },
  {
   "cell_type": "code",
   "execution_count": 660,
   "metadata": {},
   "outputs": [],
   "source": [
    "# add namespace to your ontology\n",
    "g.bind(\"owl\", OWL)\n",
    "\n",
    "default_ns = Namespace(\"https://example.org/Database_K#\")\n",
    "g.bind(\"ntr\", default_ns)\n",
    "\n",
    "# add namespace to the SIS-CEN/TS 17623:2021 Standard\n",
    "CEN_onto_ns = Namespace(\"http://example.org/BIM_lighting_properties_standards/CEN_TC_274_Ontology#\")\n",
    "g.bind(\"cen\", CEN_onto_ns)"
   ]
  },
  {
   "cell_type": "code",
   "execution_count": 661,
   "metadata": {},
   "outputs": [],
   "source": [
    "# existing ontologies\n",
    "# Building Topology Ontology\n",
    "BOT = Namespace(\"https://w3id.org/bot#\")\n",
    "g.bind(\"bot\", BOT)\n",
    "\n",
    "# Building Product Ontology\n",
    "BPO = Namespace(\"https://w3id.org/bpo#\")\n",
    "g.bind(\"bpo\", BPO)"
   ]
  },
  {
   "cell_type": "code",
   "execution_count": 662,
   "metadata": {},
   "outputs": [],
   "source": [
    "# add namespace to The Interconnected Data Dictionary Ontology (IDDO)\n",
    "IDDO_ns = Namespace(\"https://w3id.org/iddo#\")\n",
    "g.bind(\"iddo\", IDDO_ns)"
   ]
  },
  {
   "cell_type": "code",
   "execution_count": 663,
   "metadata": {},
   "outputs": [],
   "source": [
    "# add namespace to CoClass - change this with right URI\n",
    "coclass_ns = Namespace(\"http://example.org/coclass#\")\n",
    "g.bind(\"cc\", coclass_ns)\n",
    "\n",
    "# add namespace to bSDD - change this with the right URI\n",
    "bSDD_ns = Namespace(\"http://example.org/bSDD#\")\n",
    "g.bind(\"bsdd\", bSDD_ns)"
   ]
  },
  {
   "cell_type": "code",
   "execution_count": 664,
   "metadata": {},
   "outputs": [
    {
     "data": {
      "text/plain": [
       "<Graph identifier=N97c20783c43642869d218f85e045dc12 (<class 'rdflib.graph.Graph'>)>"
      ]
     },
     "execution_count": 664,
     "metadata": {},
     "output_type": "execute_result"
    }
   ],
   "source": [
    "# Serialize the ontology to the Turtle format and save it to a file named 'fagerhult_nator_ontology_2.ttl'\n",
    "g.serialize(destination = \"fagerhult_notor_ontology_buki21sh.ttl\", format = \"turtle\")"
   ]
  },
  {
   "cell_type": "code",
   "execution_count": 665,
   "metadata": {},
   "outputs": [],
   "source": [
    "# process the data in the sheet \"Family\"\n",
    "sheet = product_data_book.sheet_by_name(\"Family\")"
   ]
  },
  {
   "cell_type": "code",
   "execution_count": 666,
   "metadata": {},
   "outputs": [
    {
     "data": {
      "text/plain": [
       "<Graph identifier=N97c20783c43642869d218f85e045dc12 (<class 'rdflib.graph.Graph'>)>"
      ]
     },
     "execution_count": 666,
     "metadata": {},
     "output_type": "execute_result"
    }
   ],
   "source": [
    "# create a class \"Notor\" family ==> add the concept \"Notor\" (owl:Class)\n",
    "\n",
    "class_notor_family = URIRef(default_ns + sheet.cell_value(rowx=2, colx=1).strip())\n",
    "\n",
    "# add class_notor_family (an RDF triple), which is a class, to an RDF graph g\n",
    "\n",
    "s = class_notor_family\n",
    "p = RDF.type\n",
    "o = RDFS.Class\n",
    "g.add((s, p, o))"
   ]
  },
  {
   "cell_type": "code",
   "execution_count": 667,
   "metadata": {},
   "outputs": [
    {
     "data": {
      "text/plain": [
       "<Graph identifier=N97c20783c43642869d218f85e045dc12 (<class 'rdflib.graph.Graph'>)>"
      ]
     },
     "execution_count": 667,
     "metadata": {},
     "output_type": "execute_result"
    }
   ],
   "source": [
    "# add describtion to the class\n",
    "# sheet.cell_value(rowx=3, colx=1): Reads the content of a cell from an Excel sheet at\n",
    "# .replace(\"<br>\", \" \"): Replace all occurences of the HTML line break tag <br>\n",
    "\n",
    "s = class_notor_family\n",
    "p = RDFS.comment\n",
    "o = Literal(sheet.cell_value(rowx=3, colx=1).replace(\"<br>\", \" \").replace(\"\\n\", \" \"))\n",
    "g.add((s, p, o))"
   ]
  },
  {
   "cell_type": "code",
   "execution_count": 668,
   "metadata": {},
   "outputs": [
    {
     "data": {
      "text/plain": [
       "<Graph identifier=N97c20783c43642869d218f85e045dc12 (<class 'rdflib.graph.Graph'>)>"
      ]
     },
     "execution_count": 668,
     "metadata": {},
     "output_type": "execute_result"
    }
   ],
   "source": [
    "# Serialize the ontology to the Turtle format and save it to a file named 'fagerhult_nator_ontology_2.ttl'\n",
    "g.serialize(destination = \"fagerhult_notor_ontology_buki21sh.ttl\", format = \"turtle\")"
   ]
  },
  {
   "cell_type": "code",
   "execution_count": 669,
   "metadata": {},
   "outputs": [],
   "source": [
    "# process the data in the sheet \"Product\"\n",
    "sheet = product_data_book.sheet_by_name(\"Product\")"
   ]
  },
  {
   "cell_type": "code",
   "execution_count": 670,
   "metadata": {},
   "outputs": [
    {
     "data": {
      "text/plain": [
       "<Graph identifier=N97c20783c43642869d218f85e045dc12 (<class 'rdflib.graph.Graph'>)>"
      ]
     },
     "execution_count": 670,
     "metadata": {},
     "output_type": "execute_result"
    }
   ],
   "source": [
    "# Define that \"Notor 65 BetaOpti\" is a Class\n",
    "# make an assertion that \"Notor 65 BetaOpti\" is a Class\n",
    "class_notor_product = URIRef(\n",
    "    default_ns + sheet.cell_value(rowx=3, colx=3).strip().replace(\" \", \"_\"))\n",
    "\n",
    "s = class_notor_product\n",
    "p = RDF.type\n",
    "o = RDFS.Class\n",
    "g.add((s, p, o))\n",
    "\n",
    "# add definition in a natural Language text\n",
    "s = class_notor_product\n",
    "p = RDFS.comment\n",
    "o = Literal(\"A light component for buildings\")\n",
    "g.add((s, p, o))"
   ]
  },
  {
   "cell_type": "code",
   "execution_count": 671,
   "metadata": {},
   "outputs": [
    {
     "data": {
      "text/plain": [
       "<Graph identifier=N97c20783c43642869d218f85e045dc12 (<class 'rdflib.graph.Graph'>)>"
      ]
     },
     "execution_count": 671,
     "metadata": {},
     "output_type": "execute_result"
    }
   ],
   "source": [
    "# align your onyology with bSDD and CoClass ontology\n",
    "s = class_notor_product\n",
    "p = RDFS.subClassOf\n",
    "o = bSDD_ns.IfcLightFixture\n",
    "g.add((s, p, o))\n",
    "\n",
    "s = class_notor_product\n",
    "p = RDFS.subClassOf\n",
    "o = coclass_ns.UACLightfixture\n",
    "g.add((s, p, o))"
   ]
  },
  {
   "cell_type": "code",
   "execution_count": 672,
   "metadata": {},
   "outputs": [
    {
     "data": {
      "text/plain": [
       "<Graph identifier=N97c20783c43642869d218f85e045dc12 (<class 'rdflib.graph.Graph'>)>"
      ]
     },
     "execution_count": 672,
     "metadata": {},
     "output_type": "execute_result"
    }
   ],
   "source": [
    "# align your onyology with BPO ontology\n",
    "# in this example, we're aligning the Notor class as a subclass of bot:Element\n",
    "s = bSDD_ns.IfcLightFixture\n",
    "p = RDFS.subClassOf\n",
    "o = BPO[\"product\"]\n",
    "g.add((s, p, o))\n",
    "\n",
    "s = coclass_ns.UACLightfixture\n",
    "p = RDFS.subClassOf\n",
    "o = BPO[\"product\"]\n",
    "g.add((s, p, o))"
   ]
  },
  {
   "cell_type": "code",
   "execution_count": 673,
   "metadata": {},
   "outputs": [
    {
     "data": {
      "text/plain": [
       "<Graph identifier=N97c20783c43642869d218f85e045dc12 (<class 'rdflib.graph.Graph'>)>"
      ]
     },
     "execution_count": 673,
     "metadata": {},
     "output_type": "execute_result"
    }
   ],
   "source": [
    "# align your onyology with BPO ontology\n",
    "# in this example, we're aligning the Notor class as a subclass of bot:Element\n",
    "# check what is the domain and range of the bot:Element, its definition before you align it with your ontology\n",
    "s = bSDD_ns.IfcLightFixture\n",
    "p = RDFS.subClassOf\n",
    "o = BPO[\"Element\"]\n",
    "g.add((s, p, o))\n",
    "\n",
    "s = coclass_ns.UACLightfixture\n",
    "p = RDFS.subClassOf\n",
    "o = BPO[\"Element\"]\n",
    "g.add((s, p, o))"
   ]
  },
  {
   "cell_type": "code",
   "execution_count": 674,
   "metadata": {},
   "outputs": [
    {
     "data": {
      "text/plain": [
       "<Graph identifier=N97c20783c43642869d218f85e045dc12 (<class 'rdflib.graph.Graph'>)>"
      ]
     },
     "execution_count": 674,
     "metadata": {},
     "output_type": "execute_result"
    }
   ],
   "source": [
    "# exammple of creating a property - make sure to refer existing ontologies before creating a new property\n",
    "# add information about who defined the property and its definition\n",
    "# you can also use RDF.Property\n",
    "s = default_ns[\"isDesignedFor\"]\n",
    "p = RDF.type\n",
    "o = OWL.ObjectProperty\n",
    "g.add((s, p, o))\n",
    "\n",
    "# state which ontology defined this property\n",
    "s = default_ns[\"isDesignedFor\"]\n",
    "p = RDFS.isDefinedBy\n",
    "o = URIRef(\"https://example.org/Database_K#\")\n",
    "g.add((s, p, o))\n",
    "\n",
    "# Add a definition for the isDesignedFor property using rdf:comment\n",
    "definition = \"The isDesignedFor property is used to indicate the intended or appropriate use of an object. It specifies the environment, context, or purpose for which the object has been designed or optimized, and can be used to represent knowledge about the relationship between an object and its intended use.\"\n",
    "s = default_ns[\"isDesignedFor\"]\n",
    "p = RDFS.comment\n",
    "o = Literal(definition)\n",
    "g.add((s, p, o))"
   ]
  },
  {
   "cell_type": "code",
   "execution_count": 675,
   "metadata": {},
   "outputs": [],
   "source": [
    "# create an instance of bot:Space and associate it with the concept of conference room\n",
    "conference_room = URIRef(default_ns + \"ConferenceRoom\")"
   ]
  },
  {
   "cell_type": "code",
   "execution_count": 676,
   "metadata": {},
   "outputs": [
    {
     "data": {
      "text/plain": [
       "<Graph identifier=N97c20783c43642869d218f85e045dc12 (<class 'rdflib.graph.Graph'>)>"
      ]
     },
     "execution_count": 676,
     "metadata": {},
     "output_type": "execute_result"
    }
   ],
   "source": [
    "# make an assertion that \"Notor 65 BetaOpti\" is designed for an conference room, which is a type of Space  \n",
    "\n",
    "s = class_notor_product \n",
    "p = default_ns[ \"isDesignedFor\" ] \n",
    "o = conference_room\n",
    "g.add((s, p, o))"
   ]
  },
  {
   "cell_type": "code",
   "execution_count": 677,
   "metadata": {},
   "outputs": [
    {
     "data": {
      "text/plain": [
       "<Graph identifier=N97c20783c43642869d218f85e045dc12 (<class 'rdflib.graph.Graph'>)>"
      ]
     },
     "execution_count": 677,
     "metadata": {},
     "output_type": "execute_result"
    }
   ],
   "source": [
    "s = conference_room \n",
    "p = OWL.equivalentClass\n",
    "o = bSDD_ns.ConferenceRooms\n",
    "g.add((s, p, o))\n",
    "\n",
    "s = conference_room \n",
    "p = OWL.equivalentClass\n",
    "o = coclass_ns.BABMeetingSpace\n",
    "g.add((s, p, o))\n",
    "\n",
    "s = bSDD_ns.ConferenceRooms\n",
    "p = RDF.type\n",
    "o = BOT[\"Space\"]\n",
    "g.add((s, p, o))\n",
    "\n",
    "s = coclass_ns.BABMeetingSpace\n",
    "p = RDF.type\n",
    "o = BOT[\"Space\"]\n",
    "g.add((s, p, o))"
   ]
  },
  {
   "cell_type": "code",
   "execution_count": 678,
   "metadata": {},
   "outputs": [
    {
     "data": {
      "text/plain": [
       "<Graph identifier=N97c20783c43642869d218f85e045dc12 (<class 'rdflib.graph.Graph'>)>"
      ]
     },
     "execution_count": 678,
     "metadata": {},
     "output_type": "execute_result"
    }
   ],
   "source": [
    "# align your ontology with the BPO ontology  \n",
    "# in this example, we're aligning the Notor class as a subclass of bot:Element \n",
    "s = IDDO_ns[\"GloballyUniqueIdentifier\"] \n",
    "p = RDF.type \n",
    "o = OWL.DatatypeProperty \n",
    "g.add((s, p, o)) \n",
    "\n",
    "# state which ontology defined this property  \n",
    "s = IDDO_ns[\"GloballyUniqueIdentifier\"] \n",
    "p = RDFS.isDefinedBy \n",
    "o = URIRef(\"https://w3id.org/iddo#\") \n",
    "g.add((s, p, o)) \n",
    "\n",
    "\n",
    "# Add a definition for the isDesignedFor property using rdf:comment \n",
    "definition = \"Unique identifier generated using the algorithm denoted in RFC 4122\" \n",
    "s = IDDO_ns[\"GloballyUniqueIdentifier\"] \n",
    "p = RDFS.comment \n",
    "o = Literal(definition) \n",
    "g.add((s, p, o)) "
   ]
  },
  {
   "cell_type": "code",
   "execution_count": 679,
   "metadata": {},
   "outputs": [
    {
     "data": {
      "text/plain": [
       "<Graph identifier=N97c20783c43642869d218f85e045dc12 (<class 'rdflib.graph.Graph'>)>"
      ]
     },
     "execution_count": 679,
     "metadata": {},
     "output_type": "execute_result"
    }
   ],
   "source": [
    "# \"Notor 65 Beta Opti\" is subclass of \"Notor\"  \n",
    "s = class_notor_product \n",
    "p = RDFS.subClassOf \n",
    "o = class_notor_family \n",
    "g.add((s, p, o)) \n",
    "\n",
    "# add a description to the class \n",
    "# the value from the field \"Product Preamble\", add other descriptions as well \n",
    "s = class_notor_product \n",
    "p = RDFS.comment \n",
    "o = Literal(sheet.cell_value(rowx=4, colx=3)) \n",
    "g.add((s, p, o)) "
   ]
  },
  {
   "cell_type": "code",
   "execution_count": 680,
   "metadata": {},
   "outputs": [
    {
     "data": {
      "text/plain": [
       "<Graph identifier=N97c20783c43642869d218f85e045dc12 (<class 'rdflib.graph.Graph'>)>"
      ]
     },
     "execution_count": 680,
     "metadata": {},
     "output_type": "execute_result"
    }
   ],
   "source": [
    "g.serialize( destination = \"fagerhult_notor_ontology_buki21sh.ttl\" , format = \"turtle\" ) "
   ]
  },
  {
   "cell_type": "code",
   "execution_count": 681,
   "metadata": {},
   "outputs": [],
   "source": [
    "# process the data in the sheet \"Item\" \n",
    "sheet = product_data_book.sheet_by_name(\"Item\") "
   ]
  },
  {
   "cell_type": "code",
   "execution_count": 682,
   "metadata": {},
   "outputs": [
    {
     "data": {
      "text/plain": [
       "<Graph identifier=N97c20783c43642869d218f85e045dc12 (<class 'rdflib.graph.Graph'>)>"
      ]
     },
     "execution_count": 682,
     "metadata": {},
     "output_type": "execute_result"
    }
   ],
   "source": [
    "# create a class  \"A1 LD Notor65 Betaopti\" family product subgroup \n",
    "\n",
    "class_notor_product_item = URIRef( \n",
    "    default_ns + sheet.cell_value(rowx=9, colx=3).strip().replace(\" \", \"_\")) \n",
    "\n",
    "\n",
    "s = class_notor_product_item \n",
    "p = RDF.type \n",
    "o = RDFS.Class \n",
    "g.add((s, p, o)) \n",
    "\n",
    "# \"A1 LD Notor65 Betaopti\" is a subclass of Notor 65 betaopti \n",
    "s = class_notor_product_item \n",
    "p = RDFS.subClassOf \n",
    "o = class_notor_product \n",
    "g.add((s, p, o)) "
   ]
  },
  {
   "cell_type": "code",
   "execution_count": 683,
   "metadata": {},
   "outputs": [
    {
     "data": {
      "text/plain": [
       "<Graph identifier=N97c20783c43642869d218f85e045dc12 (<class 'rdflib.graph.Graph'>)>"
      ]
     },
     "execution_count": 683,
     "metadata": {},
     "output_type": "execute_result"
    }
   ],
   "source": [
    "# add the description to the class \n",
    "# the value from the field \"ItemJeevesDescription\", might need to be changed later! \n",
    "s = class_notor_product_item \n",
    "p = RDFS.comment \n",
    "o = Literal(sheet.cell_value(rowx=7, colx=3)) \n",
    "g.add((s, p, o))"
   ]
  },
  {
   "cell_type": "code",
   "execution_count": 684,
   "metadata": {},
   "outputs": [
    {
     "data": {
      "text/plain": [
       "<Graph identifier=N97c20783c43642869d218f85e045dc12 (<class 'rdflib.graph.Graph'>)>"
      ]
     },
     "execution_count": 684,
     "metadata": {},
     "output_type": "execute_result"
    }
   ],
   "source": [
    "# Check the outcome in the serialised file \n",
    "g.serialize( destination = \"fagerhult_notor_ontology_buki21sh.ttl\" , format = \"turtle\" )"
   ]
  },
  {
   "cell_type": "code",
   "execution_count": 685,
   "metadata": {},
   "outputs": [],
   "source": [
    "# add namespace to the SIS-CEN/TS 17623:2021 Standard  \n",
    "CEN_onto_ns = Namespace(\"http://example.org/BIM_lighting_properties_standards/CEN_TC_274_Ontology#\") \n",
    "g.bind(\"cen\", CEN_onto_ns)"
   ]
  },
  {
   "cell_type": "code",
   "execution_count": 686,
   "metadata": {},
   "outputs": [],
   "source": [
    "# read the mapping excel file \n",
    "mapping_excel_file = r\"C:\\Users\\kiril\\Desktop\\JU\\Ontology\\2_mapping2standard.xls\"\n",
    "\n",
    "#open and read \n",
    "mapping_book = xlrd.open_workbook(mapping_excel_file) \n",
    "\n",
    "# retrieve the first sheet - index of the first sheet is 0 \n",
    "mapping_sheet = mapping_book.sheet_by_index(0) \n",
    "\n",
    "# sanitization function that replaces any non-alphanumeric characters with underscores and removes any leading or trailing spaces \n",
    "def sanitize_uri_part(value):\n",
    "    return re.sub('[^A-Za-z0-9]+', '_', value.strip()) \n",
    "\n",
    "for row in mapping_sheet.get_rows():\n",
    "    if row[0].value and row[1].value and row[2].value: \n",
    "        name = sanitize_uri_part(row[0].value)\n",
    "        # create URI for each property\n",
    "        property_notor_item = URIRef(default_ns + name) \n",
    "        g.add((property_notor_item, RDF.type, RDF.Property)) \n",
    "        g.add((property_notor_item, RDFS.domain, class_notor_product_item)) \n",
    "\n",
    "        # add the rdfs:seeAlso property only if row[4].value is true \n",
    "        if row[4].value and row[0].value: \n",
    "            g.add((property_notor_item, RDFS.seeAlso, URIRef(CEN_onto_ns + sanitize_uri_part(row[4].value)))) \n",
    "\n",
    "        # add the GUID data property only if row[5].value is true ; rdfs:seeAlso property changes depending on the mapping \n",
    "        if row[5].value and row[0].value: \n",
    "            g.add((property_notor_item, IDDO_ns[\"GloballyUniqueIdentifier\"], Literal(sanitize_uri_part(row[5].value)))) \n",
    "\n",
    "        # add the rdfs:seeAlso or OWL:equivalentProperty property only if row[8].value is true\n",
    "        if row[8].value and row[0].value:\n",
    "            name_cen = sanitize_uri_part(row[4].value)\n",
    "            property_notor_item_cen = URIRef(CEN_onto_ns + name_cen)\n",
    "            if row[7].value == 'seeAlso':\n",
    "                g.add((property_notor_item_cen, RDFS.seeAlso, URIRef(coclass_ns + sanitize_uri_part(row[8].value))))\n",
    "            elif row[7].value == 'equivalent Property':\n",
    "                g.add((property_notor_item_cen, OWL.equivalentProperty, URIRef(coclass_ns + sanitize_uri_part(row[8].value))))\n",
    "\n",
    "        # add the rdfs:seeAlso or OWL:equivalentProperty property only if row[10].value is true\n",
    "        if row[10].value and row[0].value: \n",
    "            if row[9].value == 'seeAlso':\n",
    "                g.add((property_notor_item_cen, RDFS.seeAlso, URIRef(bSDD_ns + sanitize_uri_part(row[10].value))))\n",
    "            elif row[9].value == 'equivalent Property':\n",
    "                g.add((property_notor_item_cen, OWL.equivalentProperty, URIRef(bSDD_ns + sanitize_uri_part(row[10].value))))\n",
    "\n",
    "        # add range\n",
    "        if row[6].value == 'string': o = XSD.string\n",
    "        elif row[6].value == 'integer': o = XSD.integer\n",
    "        elif row[6].value == 'float': o = XSD.float\n",
    "        elif row[6].value == 'boolean': o = XSD.boolean\n",
    "        g.add((property_notor_item, RDFS.range, o))"
   ]
  },
  {
   "cell_type": "code",
   "execution_count": 687,
   "metadata": {},
   "outputs": [
    {
     "data": {
      "text/plain": [
       "<Graph identifier=N97c20783c43642869d218f85e045dc12 (<class 'rdflib.graph.Graph'>)>"
      ]
     },
     "execution_count": 687,
     "metadata": {},
     "output_type": "execute_result"
    }
   ],
   "source": [
    "g.serialize( destination = \"fagerhult_notor_ontology_buki21sh.ttl\" , format = \"turtle\" )"
   ]
  },
  {
   "cell_type": "code",
   "execution_count": 688,
   "metadata": {},
   "outputs": [],
   "source": [
    "remote_connection_details = {\n",
    "    'endpoint': 'https://sd-e239ddb5.stardog.cloud:5820',\n",
    "    'username': 'Kirill',\n",
    "    'password': 'w5fvqQ4coUlsb45'\n",
    "} "
   ]
  },
  {
   "cell_type": "code",
   "execution_count": 689,
   "metadata": {},
   "outputs": [
    {
     "name": "stdout",
     "output_type": "stream",
     "text": [
      "Database Database_K already exists.\n"
     ]
    }
   ],
   "source": [
    "# create a database \n",
    "\n",
    "database_name = 'Database_K'\n",
    "with stardog.Admin(**remote_connection_details) as admin:\n",
    "    if database_name in [db.name for db in admin.databases()]:\n",
    "        print(f\"Database {database_name} already exists.\")\n",
    "    else:\n",
    "        db = admin.new_database(database_name)\n",
    "        print(f\"Database {database_name} created successfully.\")"
   ]
  },
  {
   "cell_type": "code",
   "execution_count": 690,
   "metadata": {},
   "outputs": [],
   "source": [
    "# connect to the remote stardog database\n",
    "conn_remote = stardog.Connection(database_name, **remote_connection_details)"
   ]
  },
  {
   "cell_type": "code",
   "execution_count": 691,
   "metadata": {},
   "outputs": [
    {
     "data": {
      "text/plain": [
       "'dee44125-6b8f-4281-b01a-c4d6adf2c70d'"
      ]
     },
     "execution_count": 691,
     "metadata": {},
     "output_type": "execute_result"
    }
   ],
   "source": [
    "# start a transaction\n",
    "conn_remote.begin()"
   ]
  },
  {
   "cell_type": "code",
   "execution_count": 692,
   "metadata": {},
   "outputs": [],
   "source": [
    "# add your ontology to the remotely running server\n",
    "conn_remote.add(stardog.content.File('fagerhult_notor_ontology_buki21sh.ttl'))"
   ]
  },
  {
   "cell_type": "code",
   "execution_count": 693,
   "metadata": {},
   "outputs": [],
   "source": [
    "# commit the transaction\n",
    "conn_remote.commit()"
   ]
  },
  {
   "cell_type": "code",
   "execution_count": 694,
   "metadata": {},
   "outputs": [
    {
     "name": "stdout",
     "output_type": "stream",
     "text": [
      "{'s': {'type': 'uri', 'value': 'https://example.org/Database_K#Notor_65_Beta_Opti'}}\n"
     ]
    }
   ],
   "source": [
    "# Establish the connection to the remote Stardog server \n",
    "conn_remote = stardog.Connection(\n",
    "    database_name,\n",
    "    remote_connection_details['endpoint'],\n",
    "    username=remote_connection_details['username'],\n",
    "    password=remote_connection_details['password']\n",
    ")\n",
    "\n",
    "\n",
    "query = \"\"\" \n",
    "    prefix : <https://example.org/Database_K#>\n",
    "    prefix bot: <https://w3id.org/bot#>\n",
    "    prefix bpo: <https://w3id.org/bpo#>\n",
    "    prefix bsdd: <http://example.org/bSDD#>\n",
    "    prefix cen: <http://example.org/BIM_lighting_properties_standards/CEN_TC_274_Ontology#>\n",
    "    prefix cc: <http://example.org/coclass#>\n",
    "    prefix owl: <http://www.w3.org/2002/07/owl#>\n",
    "    prefix rdf: <http://www.w3.org/1999/02/22-rdf-syntax-ns#>\n",
    "    prefix rdfs: <http://www.w3.org/2000/01/rdf-schema#>\n",
    "    prefix xsd: <http://www.w3.org/2001/XMLSchema#>\n",
    "    \n",
    "    SELECT ?s\n",
    "        WHERE {\n",
    "            ?s :isDesignedFor :ConferenceRoom .\n",
    "        }\n",
    "        \"\"\"\n",
    "\n",
    "results_JSON = conn_remote.select(\n",
    "    query,\n",
    "    content_type=stardog.content_types.SPARQL_JSON,\n",
    ")\n",
    "\n",
    "query_results = results_JSON[\"results\"][\"bindings\"]\n",
    "print(*query_results, sep=\"\\n\") # to see the dict and decide what to retrieve\n",
    "'''query_results_output = []\n",
    "for i in query_results:\n",
    "    query_results_output.append({i[\"s\"][\"value\"], i[\"p\"][\"value\"], i[\"o\"][\"value\"]})\n",
    "print(*query_results_output, sep=\"\\n\")'''\n",
    "# Close the connection to the remote Stardog server\n",
    "conn_remote.close()"
   ]
  },
  {
   "cell_type": "code",
   "execution_count": 698,
   "metadata": {},
   "outputs": [
    {
     "name": "stdout",
     "output_type": "stream",
     "text": [
      "{'https://example.org/Database_K#Notor_65_Beta_Opti'}\n"
     ]
    }
   ],
   "source": [
    "# Establish the connection to the remote Stardog server \n",
    "conn_remote = stardog.Connection(\n",
    "    database_name,\n",
    "    remote_connection_details['endpoint'],\n",
    "    username=remote_connection_details['username'],\n",
    "    password=remote_connection_details['password']\n",
    ")\n",
    "\n",
    "# query your data \n",
    "\n",
    "query = \"\"\" \n",
    "    prefix ntr: <https://example.org/Database_K#>\n",
    "    prefix bot: <https://w3id.org/bot#>\n",
    "    prefix bpo: <https://w3id.org/bpo#>\n",
    "    prefix bsdd: <http://example.org/bSDD#>\n",
    "    prefix cen: <http://example.org/BIM_lighting_properties_standards/CEN_TC_274_Ontology#>\n",
    "    prefix cc: <http://example.org/coclass#>\n",
    "    prefix owl: <http://www.w3.org/2002/07/owl#>\n",
    "    prefix rdf: <http://www.w3.org/1999/02/22-rdf-syntax-ns#>\n",
    "    prefix rdfs: <http://www.w3.org/2000/01/rdf-schema#>\n",
    "    prefix xsd: <http://www.w3.org/2001/XMLSchema#>\n",
    "    \n",
    "    SELECT ?Model\n",
    "        WHERE {\n",
    "            ?ConferenceRoom ?p bsdd:ConferenceRooms .\n",
    "            ?Model ntr:isDesignedFor ?ConferenceRoom\n",
    "        }\n",
    "        \"\"\"\n",
    "\n",
    "results_JSON = conn_remote.select(\n",
    "    query,\n",
    "    content_type=stardog.content_types.SPARQL_JSON,\n",
    ")\n",
    "\n",
    "query_results = results_JSON[\"results\"][\"bindings\"]\n",
    "#print(*query_results, sep=\"\\n\") # to see the dict and decide what to retrieve\n",
    "query_results_output = []\n",
    "for i in query_results:\n",
    "    query_results_output.append({i[\"Model\"][\"value\"]})\n",
    "print(*query_results_output, sep=\"\\n\")\n",
    "\n",
    "# Close the connection to the remote Stardog server\n",
    "conn_remote.close()"
   ]
  },
  {
   "cell_type": "code",
   "execution_count": 714,
   "metadata": {},
   "outputs": [
    {
     "name": "stdout",
     "output_type": "stream",
     "text": [
      "{'https://example.org/fagerhult_notor_ontology_2#CRI'}\n",
      "{'https://example.org/Database_K#CRI'}\n"
     ]
    }
   ],
   "source": [
    "# Establish the connection to the remote Stardog server \n",
    "conn_remote = stardog.Connection(\n",
    "    database_name,\n",
    "    remote_connection_details['endpoint'],\n",
    "    username=remote_connection_details['username'],\n",
    "    password=remote_connection_details['password']\n",
    ")\n",
    "\n",
    "# query your data \n",
    "\n",
    "query = \"\"\" \n",
    "    prefix ntr: <https://example.org/Database_K#>\n",
    "    prefix bot: <https://w3id.org/bot#>\n",
    "    prefix bpo: <https://w3id.org/bpo#>\n",
    "    prefix bsdd: <http://example.org/bSDD#>\n",
    "    prefix cen: <http://example.org/BIM_lighting_properties_standards/CEN_TC_274_Ontology#>\n",
    "    prefix cc: <http://example.org/coclass#>\n",
    "    prefix owl: <http://www.w3.org/2002/07/owl#>\n",
    "    prefix rdf: <http://www.w3.org/1999/02/22-rdf-syntax-ns#>\n",
    "    prefix rdfs: <http://www.w3.org/2000/01/rdf-schema#>\n",
    "    prefix xsd: <http://www.w3.org/2001/XMLSchema#>\n",
    "    \n",
    "    SELECT ?property\n",
    "        WHERE {\n",
    "            ?property ?p cen:Colour_Rendering_Index_CRI_ .\n",
    "        }\n",
    "        \"\"\"\n",
    "\n",
    "results_JSON = conn_remote.select(\n",
    "    query,\n",
    "    content_type=stardog.content_types.SPARQL_JSON,\n",
    ")\n",
    "\n",
    "query_results = results_JSON[\"results\"][\"bindings\"]\n",
    "#print(*query_results, sep=\"\\n\") # to see the dict and decide what to retrieve\n",
    "\n",
    "query_results_output = []\n",
    "for i in query_results:\n",
    "    query_results_output.append({i[\"property\"][\"value\"]})\n",
    "print(*query_results_output, sep=\"\\n\")\n",
    "\n",
    "# Close the connection to the remote Stardog server\n",
    "conn_remote.close()"
   ]
  },
  {
   "cell_type": "code",
   "execution_count": 760,
   "metadata": {},
   "outputs": [
    {
     "name": "stdout",
     "output_type": "stream",
     "text": [
      "{'http://example.org/bSDD#ColorRendering_Index'}\n"
     ]
    }
   ],
   "source": [
    "# Establish the connection to the remote Stardog server \n",
    "conn_remote = stardog.Connection(\n",
    "    database_name,\n",
    "    remote_connection_details['endpoint'],\n",
    "    username=remote_connection_details['username'],\n",
    "    password=remote_connection_details['password']\n",
    ")\n",
    "\n",
    "# query your data \n",
    "\n",
    "query = \"\"\" \n",
    "    prefix ntr: <https://example.org/Database_K#>\n",
    "    prefix bot: <https://w3id.org/bot#>\n",
    "    prefix bpo: <https://w3id.org/bpo#>\n",
    "    prefix bsdd: <http://example.org/bSDD#>\n",
    "    prefix cen: <http://example.org/BIM_lighting_properties_standards/CEN_TC_274_Ontology#>\n",
    "    prefix cc: <http://example.org/coclass#>\n",
    "    prefix owl: <http://www.w3.org/2002/07/owl#>\n",
    "    prefix rdf: <http://www.w3.org/1999/02/22-rdf-syntax-ns#>\n",
    "    prefix rdfs: <http://www.w3.org/2000/01/rdf-schema#>\n",
    "    prefix xsd: <http://www.w3.org/2001/XMLSchema#>\n",
    "    \n",
    "    SELECT ?property\n",
    "        WHERE {\n",
    "            ntr:CRI ?p1 ?cenProperty .\n",
    "            ?cenProperty ?p2 ?property .\n",
    "            FILTER isIRI(?property) .\n",
    "            FILTER regex(str(?property), \"^http://example.org/bSDD#\") .\n",
    "        }\n",
    "        \"\"\"\n",
    "\n",
    "results_JSON = conn_remote.select(\n",
    "    query,\n",
    "    content_type=stardog.content_types.SPARQL_JSON,\n",
    ")\n",
    "\n",
    "query_results = results_JSON[\"results\"][\"bindings\"]\n",
    "#print(*query_results, sep=\"\\n\") # to see the dict and decide what to retrieve\n",
    "\n",
    "query_results_output = []\n",
    "for i in query_results:\n",
    "    query_results_output.append({i[\"property\"][\"value\"]})\n",
    "print(*query_results_output, sep=\"\\n\")\n",
    "\n",
    "# Close the connection to the remote Stardog server\n",
    "conn_remote.close()"
   ]
  },
  {
   "cell_type": "code",
   "execution_count": 761,
   "metadata": {},
   "outputs": [
    {
     "name": "stdout",
     "output_type": "stream",
     "text": [
      "{'http://example.org/coclass#LTTR_Color_rendering'}\n"
     ]
    }
   ],
   "source": [
    "# Establish the connection to the remote Stardog server \n",
    "conn_remote = stardog.Connection(\n",
    "    database_name,\n",
    "    remote_connection_details['endpoint'],\n",
    "    username=remote_connection_details['username'],\n",
    "    password=remote_connection_details['password']\n",
    ")\n",
    "\n",
    "# query your data \n",
    "\n",
    "query = \"\"\" \n",
    "    prefix ntr: <https://example.org/Database_K#>\n",
    "    prefix bot: <https://w3id.org/bot#>\n",
    "    prefix bpo: <https://w3id.org/bpo#>\n",
    "    prefix bsdd: <http://example.org/bSDD#>\n",
    "    prefix cen: <http://example.org/BIM_lighting_properties_standards/CEN_TC_274_Ontology#>\n",
    "    prefix cc: <http://example.org/coclass#>\n",
    "    prefix owl: <http://www.w3.org/2002/07/owl#>\n",
    "    prefix rdf: <http://www.w3.org/1999/02/22-rdf-syntax-ns#>\n",
    "    prefix rdfs: <http://www.w3.org/2000/01/rdf-schema#>\n",
    "    prefix xsd: <http://www.w3.org/2001/XMLSchema#>\n",
    "    \n",
    "    SELECT ?property\n",
    "        WHERE {\n",
    "            ntr:CRI ?p1 ?cenProperty .\n",
    "            ?cenProperty ?p2 ?property .\n",
    "            FILTER isIRI(?property) .\n",
    "            FILTER regex(str(?property), \"^http://example.org/coclass#\") .\n",
    "        }\n",
    "        \"\"\"\n",
    "\n",
    "results_JSON = conn_remote.select(\n",
    "    query,\n",
    "    content_type=stardog.content_types.SPARQL_JSON,\n",
    ")\n",
    "\n",
    "query_results = results_JSON[\"results\"][\"bindings\"]\n",
    "#print(*query_results, sep=\"\\n\") # to see the dict and decide what to retrieve\n",
    "\n",
    "query_results_output = []\n",
    "for i in query_results:\n",
    "    query_results_output.append({i[\"property\"][\"value\"]})\n",
    "print(*query_results_output, sep=\"\\n\")\n",
    "\n",
    "# Close the connection to the remote Stardog server\n",
    "conn_remote.close()"
   ]
  }
 ],
 "metadata": {
  "kernelspec": {
   "display_name": "Python 3",
   "language": "python",
   "name": "python3"
  },
  "language_info": {
   "codemirror_mode": {
    "name": "ipython",
    "version": 3
   },
   "file_extension": ".py",
   "mimetype": "text/x-python",
   "name": "python",
   "nbconvert_exporter": "python",
   "pygments_lexer": "ipython3",
   "version": "3.11.1"
  },
  "orig_nbformat": 4
 },
 "nbformat": 4,
 "nbformat_minor": 2
}
